{
  "nbformat": 4,
  "nbformat_minor": 0,
  "metadata": {
    "colab": {
      "provenance": [],
      "authorship_tag": "ABX9TyNcvvZWYOSmJm9chmi0Mtdb",
      "include_colab_link": true
    },
    "kernelspec": {
      "name": "python3",
      "display_name": "Python 3"
    },
    "language_info": {
      "name": "python"
    }
  },
  "cells": [
    {
      "cell_type": "markdown",
      "metadata": {
        "id": "view-in-github",
        "colab_type": "text"
      },
      "source": [
        "<a href=\"https://colab.research.google.com/github/gustavomachin/PythonFinance/blob/master/ValuacionOpcionesKerasYPF.ipynb\" target=\"_parent\"><img src=\"https://colab.research.google.com/assets/colab-badge.svg\" alt=\"Open In Colab\"/></a>"
      ]
    },
    {
      "cell_type": "markdown",
      "source": [
        " # **<font color=\"DeepPink\">Valuación de Opciones Financieras con Keras</font>**"
      ],
      "metadata": {
        "id": "bnI6P0CrMjWF"
      }
    },
    {
      "cell_type": "markdown",
      "source": [
        "<p align=\"justify\">\n",
        "Este cuaderno presenta el flujo de trabajo completo diseñado para la valuación de opciones financieras mediante redes neuronales artificiales. La implementación se llevó a cabo en Python, empleando las bibliotecas especializadas en aprendizaje profundo Keras y TensorFlow. Asimismo, se integraron herramientas complementarias como yfinance para la recopilación de datos financieros, pandas para su organización y manipulación, y Scikit-learn para el preprocesamiento y estandarización de las variables explicativas."
      ],
      "metadata": {
        "id": "NOxFLyQk8zpm"
      }
    },
    {
      "cell_type": "markdown",
      "source": [
        " ## **<font color=\"DeepPink\">Importación de bibliotecas y módulos </font>**"
      ],
      "metadata": {
        "id": "6haAefrp-xca"
      }
    },
    {
      "cell_type": "code",
      "source": [
        "import yfinance as yf\n",
        "import pandas as pd\n",
        "import numpy as np\n",
        "import tensorflow as tf\n",
        "from sklearn.model_selection import train_test_split\n",
        "from sklearn.preprocessing import StandardScaler\n",
        "from sklearn.metrics import mean_squared_error, mean_absolute_error, r2_score\n",
        "from tensorflow.keras.models import Sequential\n",
        "from tensorflow.keras.layers import Dense, Dropout\n",
        "from tensorflow.keras.optimizers import Adam\n",
        "from tensorflow.keras.callbacks import EarlyStopping\n",
        "import datetime\n",
        "import os\n",
        "import random\n",
        "import warnings\n",
        "warnings.filterwarnings('ignore')"
      ],
      "metadata": {
        "id": "FieE7rQs9IjX"
      },
      "execution_count": 1,
      "outputs": []
    },
    {
      "cell_type": "markdown",
      "source": [
        "Se importan las bibliotecas y módulos necesarios:\n",
        "\n",
        "* `yfinance`: Para descargar los datos financieros de Yahoo Finance.\n",
        "\n",
        "* `pandas`: Para organizar y manipular los datos en tablas (DataFrames). Es la herramienta fundamental para la analítica y ciencia de datos en Python.\n",
        "\n",
        "* `numpy`: Para realizar cálculos numéricos eficientes, especialmente con arrays.\n",
        "\n",
        "* `tensorflow` y `keras`: Para construir y entrenar la red neuronal.\n",
        "\n",
        "* `scikit-learn`: Para tareas de machine learning como dividir los datos (train_test_split), escalarlos (StandardScaler) y calcular las métricas de error (mean_squared_error, etc.).\n",
        "\n",
        "* `datetime`: Sirve para trabajar con fechas.\n",
        "\n",
        "* `os`: Permite interactuar con el sistema operativo (crear/eliminar carpetas, manejar rutas, variables de entorno, etc.).\n",
        "\n",
        "* `random`: Proporciona herramientas para generar números pseudoaleatorios."
      ],
      "metadata": {
        "id": "XbE5PD8-9O7i"
      }
    },
    {
      "cell_type": "markdown",
      "source": [
        " ## **<font color=\"DeepPink\">Establecer la semilla aleatoria para reproducibilidad </font>**"
      ],
      "metadata": {
        "id": "Wqy_2hmIAQkd"
      }
    },
    {
      "cell_type": "code",
      "source": [
        "seed_value = 42                                     # Define una variable seed_value y le asigna el número (arbitrario) 42\n",
        "os.environ['PYTHONHASHSEED'] = str(seed_value)      # Controla la aleatoriedad a nivel de Python para operaciones de hashing.\n",
        "random.seed(seed_value)                             # Fija la semilla para el generador de números aleatorios del módulo random.\n",
        "np.random.seed(seed_value)                          # Fija la semilla para el generador de números aleatorios de numpy. scikit-learn usa numpy por debajo.\n",
        "tf.random.set_seed(seed_value)                      # Fija la semilla para todas las operaciones aleatorias dentro de TensorFlow, como la inicialización de los pesos y sesgos de las neuronas."
      ],
      "metadata": {
        "id": "AOCxF_pv_9An"
      },
      "execution_count": 2,
      "outputs": []
    },
    {
      "cell_type": "markdown",
      "source": [
        "<p align=\"justify\">\n",
        "Esto asegura que los resultados sean los mismos si el script y los datos no cambian."
      ],
      "metadata": {
        "id": "zXHkysJKAC6N"
      }
    },
    {
      "cell_type": "markdown",
      "source": [
        " ## **<font color=\"DeepPink\">Carga y preparación de los datos (con guardado para reproducibilidad) </font>**"
      ],
      "metadata": {
        "id": "0aRRJ4a_DZnA"
      }
    },
    {
      "cell_type": "code",
      "source": [
        "ticker_symbol = \"YPF\"\n",
        "csv_filename = \"datos_opciones_ypf_completo.csv\"\n",
        "\n",
        "if os.path.exists(csv_filename):                                                # Verifica si un archivo con el nombre contenido en csv_filename ya existe en la carpeta actual.\n",
        "    print(f\"Cargando datos desde el archivo local: {csv_filename}\")\n",
        "    options_df = pd.read_csv(csv_filename)                                      # Lee el contenido del archivo CSV y lo cargar en un DataFrame llamado options_df\n",
        "else:\n",
        "    print(f\"Descargando datos de yfinance para {ticker_symbol} y guardando en archivo...\")\n",
        "    stock = yf.Ticker(ticker_symbol)                                            # Crea un objeto \"Ticker\" de yfinance que representa la acción de YPF.\n",
        "    expirations = stock.options                                                 # El atributo options devuelve una lista con todas las fechas de vencimiento disponibles para las opciones de la acción.\n",
        "\n",
        "    all_options_list = []                                                       # Crea una lista vacía para ir guardando los DataFrames de cada fecha de vencimiento.\n",
        "\n",
        "    # Bucle para obtener datos de TODAS las fechas de vencimiento\n",
        "    for expiration_str in expirations:\n",
        "        chain = stock.option_chain(expiration_str)                              # Descarga cadena de opciones completa (calls y puts) para esa fecha.\n",
        "        options = pd.concat([chain.calls, chain.puts], ignore_index=True)       # Une dos DataFrames, chain.calls (las opciones de compra) y chain.puts (las de venta).\n",
        "\n",
        "        # Calcular días hasta el vencimiento para esta cadena específica\n",
        "        expiration_date = datetime.datetime.strptime(expiration_str, \"%Y-%m-%d\")# Convierte la fecha de vencimiento de texto a formato de fecha (datetime).\n",
        "        today = datetime.datetime.now()\n",
        "        options[\"daysToExpiration\"] = (expiration_date - today).days            # Crea una nueva columna resultado de restar la fecha de hoy a la de vencimiento, obteniendo el número de días.\n",
        "\n",
        "        all_options_list.append(options)                                        # Añade el DataFrame options al final de la lista all_options_list\n",
        "\n",
        "    options_df = pd.concat(all_options_list, ignore_index=True)                 # Une todos los DataFrames que se guardaron en la lista\n",
        "    options_df.to_csv(csv_filename, index=False)                                # Guarda el contenido del DataFrame options_df en un archivo CSV\n",
        "    print(\"Datos guardados exitosamente.\")"
      ],
      "metadata": {
        "colab": {
          "base_uri": "https://localhost:8080/"
        },
        "id": "M3aLTQuXDs_V",
        "outputId": "af994da7-68b6-4e45-cecd-de6a04dd9726"
      },
      "execution_count": 3,
      "outputs": [
        {
          "output_type": "stream",
          "name": "stdout",
          "text": [
            "Descargando datos de yfinance para YPF y guardando en archivo...\n",
            "Datos guardados exitosamente.\n"
          ]
        }
      ]
    },
    {
      "cell_type": "markdown",
      "source": [
        " ## **<font color=\"DeepPink\">Visualización del conjunto de datos </font>**"
      ],
      "metadata": {
        "id": "zsoMztk5GlqW"
      }
    },
    {
      "cell_type": "code",
      "source": [
        "options_df.shape"
      ],
      "metadata": {
        "colab": {
          "base_uri": "https://localhost:8080/"
        },
        "id": "TmjJpxGuGqdD",
        "outputId": "7cd89fb1-b2a8-46ce-8824-ecee0091842e"
      },
      "execution_count": 4,
      "outputs": [
        {
          "output_type": "execute_result",
          "data": {
            "text/plain": [
              "(197, 15)"
            ]
          },
          "metadata": {},
          "execution_count": 4
        }
      ]
    },
    {
      "cell_type": "markdown",
      "source": [
        "<p align=\"justify\">\n",
        "El atributo <code>shape</code> de pandas devuelve una tupla con las dimensiones del DataFrame <code>options_df</code>. Esto es fundamental para visualizar rápidamente de la cantidad de datos con las que se trabajará.\n",
        "<br><br>\n",
        "193 es el número total de contratos de opciones (<i>calls</i> y <i>puts</i>) recopilados para\n",
        "YPF a través de todas las fechas de vencimiento. Cada fila es un ejemplo único para entrenar el modelo. Mientras que 15 es el número total de características o variables para cada contrato. Es decir, el conjunto de datos tiene 193 contratos de opciones, y para cada uno 15 variables."
      ],
      "metadata": {
        "id": "eSUNKhZVcezr"
      }
    },
    {
      "cell_type": "code",
      "source": [
        "options_df"
      ],
      "metadata": {
        "colab": {
          "base_uri": "https://localhost:8080/",
          "height": 423
        },
        "id": "slYgn8PCGX01",
        "outputId": "a3a79a86-b12d-4667-c314-69a7a39876c5"
      },
      "execution_count": 5,
      "outputs": [
        {
          "output_type": "execute_result",
          "data": {
            "text/plain": [
              "         contractSymbol             lastTradeDate  strike  lastPrice   bid  \\\n",
              "0    YPF250919C00027000 2025-07-30 14:32:30+00:00    27.0       8.13   3.7   \n",
              "1    YPF250919C00028000 2025-08-28 17:07:59+00:00    28.0       3.58   2.9   \n",
              "2    YPF250919C00030000 2025-08-29 14:20:38+00:00    30.0       1.80   1.6   \n",
              "3    YPF250919C00031000 2025-08-29 14:59:58+00:00    31.0       1.25   1.1   \n",
              "4    YPF250919C00032000 2025-08-29 14:31:00+00:00    32.0       0.90   0.7   \n",
              "..                  ...                       ...     ...        ...   ...   \n",
              "192  YPF270115P00045000 2025-01-14 18:50:13+00:00    45.0      10.32  11.0   \n",
              "193  YPF270115P00050000 2025-01-17 16:44:20+00:00    50.0      14.00  14.9   \n",
              "194  YPF270115P00055000 2025-04-15 13:30:20+00:00    55.0      23.50   0.0   \n",
              "195  YPF270115P00060000 2024-12-24 15:09:09+00:00    60.0      21.35  19.8   \n",
              "196  YPF270115P00065000 2024-12-24 15:09:09+00:00    65.0      25.45  23.8   \n",
              "\n",
              "       ask  change  percentChange  volume  openInterest  impliedVolatility  \\\n",
              "0     4.00    0.00       0.000000     1.0             1           0.543950   \n",
              "1     3.10    0.00       0.000000     1.0            90           0.503911   \n",
              "2     1.75   -0.55     -23.404255     2.0           192           0.507817   \n",
              "3     1.25   -0.15     -10.714285    13.0            24           0.498540   \n",
              "4     0.85   -0.18     -16.666674   328.0           623           0.488286   \n",
              "..     ...     ...            ...     ...           ...                ...   \n",
              "192  15.50    0.00       0.000000     1.0             0           0.310310   \n",
              "193  19.40    0.00       0.000000    20.0            41           0.000010   \n",
              "194   0.00    0.00       0.000000     NaN             0           0.000010   \n",
              "195  24.50    0.00       0.000000    10.0             0           0.000010   \n",
              "196  28.50    0.00       0.000000    10.0             0           0.000010   \n",
              "\n",
              "     inTheMoney contractSize currency  daysToExpiration  \n",
              "0          True      REGULAR      USD                20  \n",
              "1          True      REGULAR      USD                20  \n",
              "2          True      REGULAR      USD                20  \n",
              "3         False      REGULAR      USD                20  \n",
              "4         False      REGULAR      USD                20  \n",
              "..          ...          ...      ...               ...  \n",
              "192        True      REGULAR      USD               503  \n",
              "193        True      REGULAR      USD               503  \n",
              "194        True      REGULAR      USD               503  \n",
              "195        True      REGULAR      USD               503  \n",
              "196        True      REGULAR      USD               503  \n",
              "\n",
              "[197 rows x 15 columns]"
            ],
            "text/html": [
              "\n",
              "  <div id=\"df-488e512e-fd42-4b7c-b555-4753cc0eaf6a\" class=\"colab-df-container\">\n",
              "    <div>\n",
              "<style scoped>\n",
              "    .dataframe tbody tr th:only-of-type {\n",
              "        vertical-align: middle;\n",
              "    }\n",
              "\n",
              "    .dataframe tbody tr th {\n",
              "        vertical-align: top;\n",
              "    }\n",
              "\n",
              "    .dataframe thead th {\n",
              "        text-align: right;\n",
              "    }\n",
              "</style>\n",
              "<table border=\"1\" class=\"dataframe\">\n",
              "  <thead>\n",
              "    <tr style=\"text-align: right;\">\n",
              "      <th></th>\n",
              "      <th>contractSymbol</th>\n",
              "      <th>lastTradeDate</th>\n",
              "      <th>strike</th>\n",
              "      <th>lastPrice</th>\n",
              "      <th>bid</th>\n",
              "      <th>ask</th>\n",
              "      <th>change</th>\n",
              "      <th>percentChange</th>\n",
              "      <th>volume</th>\n",
              "      <th>openInterest</th>\n",
              "      <th>impliedVolatility</th>\n",
              "      <th>inTheMoney</th>\n",
              "      <th>contractSize</th>\n",
              "      <th>currency</th>\n",
              "      <th>daysToExpiration</th>\n",
              "    </tr>\n",
              "  </thead>\n",
              "  <tbody>\n",
              "    <tr>\n",
              "      <th>0</th>\n",
              "      <td>YPF250919C00027000</td>\n",
              "      <td>2025-07-30 14:32:30+00:00</td>\n",
              "      <td>27.0</td>\n",
              "      <td>8.13</td>\n",
              "      <td>3.7</td>\n",
              "      <td>4.00</td>\n",
              "      <td>0.00</td>\n",
              "      <td>0.000000</td>\n",
              "      <td>1.0</td>\n",
              "      <td>1</td>\n",
              "      <td>0.543950</td>\n",
              "      <td>True</td>\n",
              "      <td>REGULAR</td>\n",
              "      <td>USD</td>\n",
              "      <td>20</td>\n",
              "    </tr>\n",
              "    <tr>\n",
              "      <th>1</th>\n",
              "      <td>YPF250919C00028000</td>\n",
              "      <td>2025-08-28 17:07:59+00:00</td>\n",
              "      <td>28.0</td>\n",
              "      <td>3.58</td>\n",
              "      <td>2.9</td>\n",
              "      <td>3.10</td>\n",
              "      <td>0.00</td>\n",
              "      <td>0.000000</td>\n",
              "      <td>1.0</td>\n",
              "      <td>90</td>\n",
              "      <td>0.503911</td>\n",
              "      <td>True</td>\n",
              "      <td>REGULAR</td>\n",
              "      <td>USD</td>\n",
              "      <td>20</td>\n",
              "    </tr>\n",
              "    <tr>\n",
              "      <th>2</th>\n",
              "      <td>YPF250919C00030000</td>\n",
              "      <td>2025-08-29 14:20:38+00:00</td>\n",
              "      <td>30.0</td>\n",
              "      <td>1.80</td>\n",
              "      <td>1.6</td>\n",
              "      <td>1.75</td>\n",
              "      <td>-0.55</td>\n",
              "      <td>-23.404255</td>\n",
              "      <td>2.0</td>\n",
              "      <td>192</td>\n",
              "      <td>0.507817</td>\n",
              "      <td>True</td>\n",
              "      <td>REGULAR</td>\n",
              "      <td>USD</td>\n",
              "      <td>20</td>\n",
              "    </tr>\n",
              "    <tr>\n",
              "      <th>3</th>\n",
              "      <td>YPF250919C00031000</td>\n",
              "      <td>2025-08-29 14:59:58+00:00</td>\n",
              "      <td>31.0</td>\n",
              "      <td>1.25</td>\n",
              "      <td>1.1</td>\n",
              "      <td>1.25</td>\n",
              "      <td>-0.15</td>\n",
              "      <td>-10.714285</td>\n",
              "      <td>13.0</td>\n",
              "      <td>24</td>\n",
              "      <td>0.498540</td>\n",
              "      <td>False</td>\n",
              "      <td>REGULAR</td>\n",
              "      <td>USD</td>\n",
              "      <td>20</td>\n",
              "    </tr>\n",
              "    <tr>\n",
              "      <th>4</th>\n",
              "      <td>YPF250919C00032000</td>\n",
              "      <td>2025-08-29 14:31:00+00:00</td>\n",
              "      <td>32.0</td>\n",
              "      <td>0.90</td>\n",
              "      <td>0.7</td>\n",
              "      <td>0.85</td>\n",
              "      <td>-0.18</td>\n",
              "      <td>-16.666674</td>\n",
              "      <td>328.0</td>\n",
              "      <td>623</td>\n",
              "      <td>0.488286</td>\n",
              "      <td>False</td>\n",
              "      <td>REGULAR</td>\n",
              "      <td>USD</td>\n",
              "      <td>20</td>\n",
              "    </tr>\n",
              "    <tr>\n",
              "      <th>...</th>\n",
              "      <td>...</td>\n",
              "      <td>...</td>\n",
              "      <td>...</td>\n",
              "      <td>...</td>\n",
              "      <td>...</td>\n",
              "      <td>...</td>\n",
              "      <td>...</td>\n",
              "      <td>...</td>\n",
              "      <td>...</td>\n",
              "      <td>...</td>\n",
              "      <td>...</td>\n",
              "      <td>...</td>\n",
              "      <td>...</td>\n",
              "      <td>...</td>\n",
              "      <td>...</td>\n",
              "    </tr>\n",
              "    <tr>\n",
              "      <th>192</th>\n",
              "      <td>YPF270115P00045000</td>\n",
              "      <td>2025-01-14 18:50:13+00:00</td>\n",
              "      <td>45.0</td>\n",
              "      <td>10.32</td>\n",
              "      <td>11.0</td>\n",
              "      <td>15.50</td>\n",
              "      <td>0.00</td>\n",
              "      <td>0.000000</td>\n",
              "      <td>1.0</td>\n",
              "      <td>0</td>\n",
              "      <td>0.310310</td>\n",
              "      <td>True</td>\n",
              "      <td>REGULAR</td>\n",
              "      <td>USD</td>\n",
              "      <td>503</td>\n",
              "    </tr>\n",
              "    <tr>\n",
              "      <th>193</th>\n",
              "      <td>YPF270115P00050000</td>\n",
              "      <td>2025-01-17 16:44:20+00:00</td>\n",
              "      <td>50.0</td>\n",
              "      <td>14.00</td>\n",
              "      <td>14.9</td>\n",
              "      <td>19.40</td>\n",
              "      <td>0.00</td>\n",
              "      <td>0.000000</td>\n",
              "      <td>20.0</td>\n",
              "      <td>41</td>\n",
              "      <td>0.000010</td>\n",
              "      <td>True</td>\n",
              "      <td>REGULAR</td>\n",
              "      <td>USD</td>\n",
              "      <td>503</td>\n",
              "    </tr>\n",
              "    <tr>\n",
              "      <th>194</th>\n",
              "      <td>YPF270115P00055000</td>\n",
              "      <td>2025-04-15 13:30:20+00:00</td>\n",
              "      <td>55.0</td>\n",
              "      <td>23.50</td>\n",
              "      <td>0.0</td>\n",
              "      <td>0.00</td>\n",
              "      <td>0.00</td>\n",
              "      <td>0.000000</td>\n",
              "      <td>NaN</td>\n",
              "      <td>0</td>\n",
              "      <td>0.000010</td>\n",
              "      <td>True</td>\n",
              "      <td>REGULAR</td>\n",
              "      <td>USD</td>\n",
              "      <td>503</td>\n",
              "    </tr>\n",
              "    <tr>\n",
              "      <th>195</th>\n",
              "      <td>YPF270115P00060000</td>\n",
              "      <td>2024-12-24 15:09:09+00:00</td>\n",
              "      <td>60.0</td>\n",
              "      <td>21.35</td>\n",
              "      <td>19.8</td>\n",
              "      <td>24.50</td>\n",
              "      <td>0.00</td>\n",
              "      <td>0.000000</td>\n",
              "      <td>10.0</td>\n",
              "      <td>0</td>\n",
              "      <td>0.000010</td>\n",
              "      <td>True</td>\n",
              "      <td>REGULAR</td>\n",
              "      <td>USD</td>\n",
              "      <td>503</td>\n",
              "    </tr>\n",
              "    <tr>\n",
              "      <th>196</th>\n",
              "      <td>YPF270115P00065000</td>\n",
              "      <td>2024-12-24 15:09:09+00:00</td>\n",
              "      <td>65.0</td>\n",
              "      <td>25.45</td>\n",
              "      <td>23.8</td>\n",
              "      <td>28.50</td>\n",
              "      <td>0.00</td>\n",
              "      <td>0.000000</td>\n",
              "      <td>10.0</td>\n",
              "      <td>0</td>\n",
              "      <td>0.000010</td>\n",
              "      <td>True</td>\n",
              "      <td>REGULAR</td>\n",
              "      <td>USD</td>\n",
              "      <td>503</td>\n",
              "    </tr>\n",
              "  </tbody>\n",
              "</table>\n",
              "<p>197 rows × 15 columns</p>\n",
              "</div>\n",
              "    <div class=\"colab-df-buttons\">\n",
              "\n",
              "  <div class=\"colab-df-container\">\n",
              "    <button class=\"colab-df-convert\" onclick=\"convertToInteractive('df-488e512e-fd42-4b7c-b555-4753cc0eaf6a')\"\n",
              "            title=\"Convert this dataframe to an interactive table.\"\n",
              "            style=\"display:none;\">\n",
              "\n",
              "  <svg xmlns=\"http://www.w3.org/2000/svg\" height=\"24px\" viewBox=\"0 -960 960 960\">\n",
              "    <path d=\"M120-120v-720h720v720H120Zm60-500h600v-160H180v160Zm220 220h160v-160H400v160Zm0 220h160v-160H400v160ZM180-400h160v-160H180v160Zm440 0h160v-160H620v160ZM180-180h160v-160H180v160Zm440 0h160v-160H620v160Z\"/>\n",
              "  </svg>\n",
              "    </button>\n",
              "\n",
              "  <style>\n",
              "    .colab-df-container {\n",
              "      display:flex;\n",
              "      gap: 12px;\n",
              "    }\n",
              "\n",
              "    .colab-df-convert {\n",
              "      background-color: #E8F0FE;\n",
              "      border: none;\n",
              "      border-radius: 50%;\n",
              "      cursor: pointer;\n",
              "      display: none;\n",
              "      fill: #1967D2;\n",
              "      height: 32px;\n",
              "      padding: 0 0 0 0;\n",
              "      width: 32px;\n",
              "    }\n",
              "\n",
              "    .colab-df-convert:hover {\n",
              "      background-color: #E2EBFA;\n",
              "      box-shadow: 0px 1px 2px rgba(60, 64, 67, 0.3), 0px 1px 3px 1px rgba(60, 64, 67, 0.15);\n",
              "      fill: #174EA6;\n",
              "    }\n",
              "\n",
              "    .colab-df-buttons div {\n",
              "      margin-bottom: 4px;\n",
              "    }\n",
              "\n",
              "    [theme=dark] .colab-df-convert {\n",
              "      background-color: #3B4455;\n",
              "      fill: #D2E3FC;\n",
              "    }\n",
              "\n",
              "    [theme=dark] .colab-df-convert:hover {\n",
              "      background-color: #434B5C;\n",
              "      box-shadow: 0px 1px 3px 1px rgba(0, 0, 0, 0.15);\n",
              "      filter: drop-shadow(0px 1px 2px rgba(0, 0, 0, 0.3));\n",
              "      fill: #FFFFFF;\n",
              "    }\n",
              "  </style>\n",
              "\n",
              "    <script>\n",
              "      const buttonEl =\n",
              "        document.querySelector('#df-488e512e-fd42-4b7c-b555-4753cc0eaf6a button.colab-df-convert');\n",
              "      buttonEl.style.display =\n",
              "        google.colab.kernel.accessAllowed ? 'block' : 'none';\n",
              "\n",
              "      async function convertToInteractive(key) {\n",
              "        const element = document.querySelector('#df-488e512e-fd42-4b7c-b555-4753cc0eaf6a');\n",
              "        const dataTable =\n",
              "          await google.colab.kernel.invokeFunction('convertToInteractive',\n",
              "                                                    [key], {});\n",
              "        if (!dataTable) return;\n",
              "\n",
              "        const docLinkHtml = 'Like what you see? Visit the ' +\n",
              "          '<a target=\"_blank\" href=https://colab.research.google.com/notebooks/data_table.ipynb>data table notebook</a>'\n",
              "          + ' to learn more about interactive tables.';\n",
              "        element.innerHTML = '';\n",
              "        dataTable['output_type'] = 'display_data';\n",
              "        await google.colab.output.renderOutput(dataTable, element);\n",
              "        const docLink = document.createElement('div');\n",
              "        docLink.innerHTML = docLinkHtml;\n",
              "        element.appendChild(docLink);\n",
              "      }\n",
              "    </script>\n",
              "  </div>\n",
              "\n",
              "\n",
              "    <div id=\"df-7f9abc7c-9ccf-4983-abc8-ca01df6c1ead\">\n",
              "      <button class=\"colab-df-quickchart\" onclick=\"quickchart('df-7f9abc7c-9ccf-4983-abc8-ca01df6c1ead')\"\n",
              "                title=\"Suggest charts\"\n",
              "                style=\"display:none;\">\n",
              "\n",
              "<svg xmlns=\"http://www.w3.org/2000/svg\" height=\"24px\"viewBox=\"0 0 24 24\"\n",
              "     width=\"24px\">\n",
              "    <g>\n",
              "        <path d=\"M19 3H5c-1.1 0-2 .9-2 2v14c0 1.1.9 2 2 2h14c1.1 0 2-.9 2-2V5c0-1.1-.9-2-2-2zM9 17H7v-7h2v7zm4 0h-2V7h2v10zm4 0h-2v-4h2v4z\"/>\n",
              "    </g>\n",
              "</svg>\n",
              "      </button>\n",
              "\n",
              "<style>\n",
              "  .colab-df-quickchart {\n",
              "      --bg-color: #E8F0FE;\n",
              "      --fill-color: #1967D2;\n",
              "      --hover-bg-color: #E2EBFA;\n",
              "      --hover-fill-color: #174EA6;\n",
              "      --disabled-fill-color: #AAA;\n",
              "      --disabled-bg-color: #DDD;\n",
              "  }\n",
              "\n",
              "  [theme=dark] .colab-df-quickchart {\n",
              "      --bg-color: #3B4455;\n",
              "      --fill-color: #D2E3FC;\n",
              "      --hover-bg-color: #434B5C;\n",
              "      --hover-fill-color: #FFFFFF;\n",
              "      --disabled-bg-color: #3B4455;\n",
              "      --disabled-fill-color: #666;\n",
              "  }\n",
              "\n",
              "  .colab-df-quickchart {\n",
              "    background-color: var(--bg-color);\n",
              "    border: none;\n",
              "    border-radius: 50%;\n",
              "    cursor: pointer;\n",
              "    display: none;\n",
              "    fill: var(--fill-color);\n",
              "    height: 32px;\n",
              "    padding: 0;\n",
              "    width: 32px;\n",
              "  }\n",
              "\n",
              "  .colab-df-quickchart:hover {\n",
              "    background-color: var(--hover-bg-color);\n",
              "    box-shadow: 0 1px 2px rgba(60, 64, 67, 0.3), 0 1px 3px 1px rgba(60, 64, 67, 0.15);\n",
              "    fill: var(--button-hover-fill-color);\n",
              "  }\n",
              "\n",
              "  .colab-df-quickchart-complete:disabled,\n",
              "  .colab-df-quickchart-complete:disabled:hover {\n",
              "    background-color: var(--disabled-bg-color);\n",
              "    fill: var(--disabled-fill-color);\n",
              "    box-shadow: none;\n",
              "  }\n",
              "\n",
              "  .colab-df-spinner {\n",
              "    border: 2px solid var(--fill-color);\n",
              "    border-color: transparent;\n",
              "    border-bottom-color: var(--fill-color);\n",
              "    animation:\n",
              "      spin 1s steps(1) infinite;\n",
              "  }\n",
              "\n",
              "  @keyframes spin {\n",
              "    0% {\n",
              "      border-color: transparent;\n",
              "      border-bottom-color: var(--fill-color);\n",
              "      border-left-color: var(--fill-color);\n",
              "    }\n",
              "    20% {\n",
              "      border-color: transparent;\n",
              "      border-left-color: var(--fill-color);\n",
              "      border-top-color: var(--fill-color);\n",
              "    }\n",
              "    30% {\n",
              "      border-color: transparent;\n",
              "      border-left-color: var(--fill-color);\n",
              "      border-top-color: var(--fill-color);\n",
              "      border-right-color: var(--fill-color);\n",
              "    }\n",
              "    40% {\n",
              "      border-color: transparent;\n",
              "      border-right-color: var(--fill-color);\n",
              "      border-top-color: var(--fill-color);\n",
              "    }\n",
              "    60% {\n",
              "      border-color: transparent;\n",
              "      border-right-color: var(--fill-color);\n",
              "    }\n",
              "    80% {\n",
              "      border-color: transparent;\n",
              "      border-right-color: var(--fill-color);\n",
              "      border-bottom-color: var(--fill-color);\n",
              "    }\n",
              "    90% {\n",
              "      border-color: transparent;\n",
              "      border-bottom-color: var(--fill-color);\n",
              "    }\n",
              "  }\n",
              "</style>\n",
              "\n",
              "      <script>\n",
              "        async function quickchart(key) {\n",
              "          const quickchartButtonEl =\n",
              "            document.querySelector('#' + key + ' button');\n",
              "          quickchartButtonEl.disabled = true;  // To prevent multiple clicks.\n",
              "          quickchartButtonEl.classList.add('colab-df-spinner');\n",
              "          try {\n",
              "            const charts = await google.colab.kernel.invokeFunction(\n",
              "                'suggestCharts', [key], {});\n",
              "          } catch (error) {\n",
              "            console.error('Error during call to suggestCharts:', error);\n",
              "          }\n",
              "          quickchartButtonEl.classList.remove('colab-df-spinner');\n",
              "          quickchartButtonEl.classList.add('colab-df-quickchart-complete');\n",
              "        }\n",
              "        (() => {\n",
              "          let quickchartButtonEl =\n",
              "            document.querySelector('#df-7f9abc7c-9ccf-4983-abc8-ca01df6c1ead button');\n",
              "          quickchartButtonEl.style.display =\n",
              "            google.colab.kernel.accessAllowed ? 'block' : 'none';\n",
              "        })();\n",
              "      </script>\n",
              "    </div>\n",
              "\n",
              "  <div id=\"id_64d00905-877e-4523-96f2-7f802face708\">\n",
              "    <style>\n",
              "      .colab-df-generate {\n",
              "        background-color: #E8F0FE;\n",
              "        border: none;\n",
              "        border-radius: 50%;\n",
              "        cursor: pointer;\n",
              "        display: none;\n",
              "        fill: #1967D2;\n",
              "        height: 32px;\n",
              "        padding: 0 0 0 0;\n",
              "        width: 32px;\n",
              "      }\n",
              "\n",
              "      .colab-df-generate:hover {\n",
              "        background-color: #E2EBFA;\n",
              "        box-shadow: 0px 1px 2px rgba(60, 64, 67, 0.3), 0px 1px 3px 1px rgba(60, 64, 67, 0.15);\n",
              "        fill: #174EA6;\n",
              "      }\n",
              "\n",
              "      [theme=dark] .colab-df-generate {\n",
              "        background-color: #3B4455;\n",
              "        fill: #D2E3FC;\n",
              "      }\n",
              "\n",
              "      [theme=dark] .colab-df-generate:hover {\n",
              "        background-color: #434B5C;\n",
              "        box-shadow: 0px 1px 3px 1px rgba(0, 0, 0, 0.15);\n",
              "        filter: drop-shadow(0px 1px 2px rgba(0, 0, 0, 0.3));\n",
              "        fill: #FFFFFF;\n",
              "      }\n",
              "    </style>\n",
              "    <button class=\"colab-df-generate\" onclick=\"generateWithVariable('options_df')\"\n",
              "            title=\"Generate code using this dataframe.\"\n",
              "            style=\"display:none;\">\n",
              "\n",
              "  <svg xmlns=\"http://www.w3.org/2000/svg\" height=\"24px\"viewBox=\"0 0 24 24\"\n",
              "       width=\"24px\">\n",
              "    <path d=\"M7,19H8.4L18.45,9,17,7.55,7,17.6ZM5,21V16.75L18.45,3.32a2,2,0,0,1,2.83,0l1.4,1.43a1.91,1.91,0,0,1,.58,1.4,1.91,1.91,0,0,1-.58,1.4L9.25,21ZM18.45,9,17,7.55Zm-12,3A5.31,5.31,0,0,0,4.9,8.1,5.31,5.31,0,0,0,1,6.5,5.31,5.31,0,0,0,4.9,4.9,5.31,5.31,0,0,0,6.5,1,5.31,5.31,0,0,0,8.1,4.9,5.31,5.31,0,0,0,12,6.5,5.46,5.46,0,0,0,6.5,12Z\"/>\n",
              "  </svg>\n",
              "    </button>\n",
              "    <script>\n",
              "      (() => {\n",
              "      const buttonEl =\n",
              "        document.querySelector('#id_64d00905-877e-4523-96f2-7f802face708 button.colab-df-generate');\n",
              "      buttonEl.style.display =\n",
              "        google.colab.kernel.accessAllowed ? 'block' : 'none';\n",
              "\n",
              "      buttonEl.onclick = () => {\n",
              "        google.colab.notebook.generateWithVariable('options_df');\n",
              "      }\n",
              "      })();\n",
              "    </script>\n",
              "  </div>\n",
              "\n",
              "    </div>\n",
              "  </div>\n"
            ],
            "application/vnd.google.colaboratory.intrinsic+json": {
              "type": "dataframe",
              "variable_name": "options_df",
              "summary": "{\n  \"name\": \"options_df\",\n  \"rows\": 197,\n  \"fields\": [\n    {\n      \"column\": \"contractSymbol\",\n      \"properties\": {\n        \"dtype\": \"string\",\n        \"num_unique_values\": 197,\n        \"samples\": [\n          \"YPF260116P00032000\",\n          \"YPF260116C00042000\",\n          \"YPF250919P00028000\"\n        ],\n        \"semantic_type\": \"\",\n        \"description\": \"\"\n      }\n    },\n    {\n      \"column\": \"lastTradeDate\",\n      \"properties\": {\n        \"dtype\": \"date\",\n        \"min\": \"2023-10-31 15:49:53+00:00\",\n        \"max\": \"2025-08-29 19:31:17+00:00\",\n        \"num_unique_values\": 191,\n        \"samples\": [\n          \"2025-08-22 18:59:31+00:00\",\n          \"2025-03-27 14:39:32+00:00\",\n          \"2025-06-24 15:13:28+00:00\"\n        ],\n        \"semantic_type\": \"\",\n        \"description\": \"\"\n      }\n    },\n    {\n      \"column\": \"strike\",\n      \"properties\": {\n        \"dtype\": \"number\",\n        \"std\": 13.148901406760308,\n        \"min\": 1.0,\n        \"max\": 70.0,\n        \"num_unique_values\": 44,\n        \"samples\": [\n          17.0,\n          44.0,\n          50.0\n        ],\n        \"semantic_type\": \"\",\n        \"description\": \"\"\n      }\n    },\n    {\n      \"column\": \"lastPrice\",\n      \"properties\": {\n        \"dtype\": \"number\",\n        \"std\": 6.4341893311845135,\n        \"min\": 0.02,\n        \"max\": 30.75,\n        \"num_unique_values\": 145,\n        \"samples\": [\n          5.3,\n          9.53,\n          5.65\n        ],\n        \"semantic_type\": \"\",\n        \"description\": \"\"\n      }\n    },\n    {\n      \"column\": \"bid\",\n      \"properties\": {\n        \"dtype\": \"number\",\n        \"std\": 6.271366843468976,\n        \"min\": 0.0,\n        \"max\": 30.0,\n        \"num_unique_values\": 97,\n        \"samples\": [\n          1.35,\n          9.4,\n          11.0\n        ],\n        \"semantic_type\": \"\",\n        \"description\": \"\"\n      }\n    },\n    {\n      \"column\": \"ask\",\n      \"properties\": {\n        \"dtype\": \"number\",\n        \"std\": 7.010236573285232,\n        \"min\": 0.0,\n        \"max\": 34.0,\n        \"num_unique_values\": 116,\n        \"samples\": [\n          4.8,\n          0.85,\n          4.3\n        ],\n        \"semantic_type\": \"\",\n        \"description\": \"\"\n      }\n    },\n    {\n      \"column\": \"change\",\n      \"properties\": {\n        \"dtype\": \"number\",\n        \"std\": 0.14842321459598232,\n        \"min\": -0.54999995,\n        \"max\": 1.4000001,\n        \"num_unique_values\": 37,\n        \"samples\": [\n          0.050000012,\n          -0.109999955,\n          -0.31\n        ],\n        \"semantic_type\": \"\",\n        \"description\": \"\"\n      }\n    },\n    {\n      \"column\": \"percentChange\",\n      \"properties\": {\n        \"dtype\": \"number\",\n        \"std\": 8.843975423413818,\n        \"min\": -41.66667,\n        \"max\": 50.000004,\n        \"num_unique_values\": 37,\n        \"samples\": [\n          5.555557,\n          -12.222218,\n          -34.444447\n        ],\n        \"semantic_type\": \"\",\n        \"description\": \"\"\n      }\n    },\n    {\n      \"column\": \"volume\",\n      \"properties\": {\n        \"dtype\": \"number\",\n        \"std\": 161.09591997442624,\n        \"min\": 1.0,\n        \"max\": 1571.0,\n        \"num_unique_values\": 41,\n        \"samples\": [\n          400.0,\n          123.0,\n          5.0\n        ],\n        \"semantic_type\": \"\",\n        \"description\": \"\"\n      }\n    },\n    {\n      \"column\": \"openInterest\",\n      \"properties\": {\n        \"dtype\": \"number\",\n        \"std\": 1140,\n        \"min\": 0,\n        \"max\": 8328,\n        \"num_unique_values\": 159,\n        \"samples\": [\n          165,\n          9,\n          447\n        ],\n        \"semantic_type\": \"\",\n        \"description\": \"\"\n      }\n    },\n    {\n      \"column\": \"impliedVolatility\",\n      \"properties\": {\n        \"dtype\": \"number\",\n        \"std\": 0.8664568028285924,\n        \"min\": 0.0,\n        \"max\": 6.394533256835938,\n        \"num_unique_values\": 167,\n        \"samples\": [\n          0.5297898583984376,\n          5.308597114257811,\n          6.394533256835938\n        ],\n        \"semantic_type\": \"\",\n        \"description\": \"\"\n      }\n    },\n    {\n      \"column\": \"inTheMoney\",\n      \"properties\": {\n        \"dtype\": \"boolean\",\n        \"num_unique_values\": 2,\n        \"samples\": [\n          false,\n          true\n        ],\n        \"semantic_type\": \"\",\n        \"description\": \"\"\n      }\n    },\n    {\n      \"column\": \"contractSize\",\n      \"properties\": {\n        \"dtype\": \"category\",\n        \"num_unique_values\": 1,\n        \"samples\": [\n          \"REGULAR\"\n        ],\n        \"semantic_type\": \"\",\n        \"description\": \"\"\n      }\n    },\n    {\n      \"column\": \"currency\",\n      \"properties\": {\n        \"dtype\": \"category\",\n        \"num_unique_values\": 1,\n        \"samples\": [\n          \"USD\"\n        ],\n        \"semantic_type\": \"\",\n        \"description\": \"\"\n      }\n    },\n    {\n      \"column\": \"daysToExpiration\",\n      \"properties\": {\n        \"dtype\": \"number\",\n        \"std\": 169,\n        \"min\": 20,\n        \"max\": 503,\n        \"num_unique_values\": 6,\n        \"samples\": [\n          20\n        ],\n        \"semantic_type\": \"\",\n        \"description\": \"\"\n      }\n    }\n  ]\n}"
            }
          },
          "metadata": {},
          "execution_count": 5
        }
      ]
    },
    {
      "cell_type": "code",
      "source": [
        "options_df.info()"
      ],
      "metadata": {
        "colab": {
          "base_uri": "https://localhost:8080/"
        },
        "id": "yzhv9359FuCe",
        "outputId": "393319aa-01f2-48f7-c4f6-80e4ea3da51f"
      },
      "execution_count": 6,
      "outputs": [
        {
          "output_type": "stream",
          "name": "stdout",
          "text": [
            "<class 'pandas.core.frame.DataFrame'>\n",
            "RangeIndex: 197 entries, 0 to 196\n",
            "Data columns (total 15 columns):\n",
            " #   Column             Non-Null Count  Dtype              \n",
            "---  ------             --------------  -----              \n",
            " 0   contractSymbol     197 non-null    object             \n",
            " 1   lastTradeDate      197 non-null    datetime64[ns, UTC]\n",
            " 2   strike             197 non-null    float64            \n",
            " 3   lastPrice          197 non-null    float64            \n",
            " 4   bid                197 non-null    float64            \n",
            " 5   ask                197 non-null    float64            \n",
            " 6   change             197 non-null    float64            \n",
            " 7   percentChange      197 non-null    float64            \n",
            " 8   volume             184 non-null    float64            \n",
            " 9   openInterest       197 non-null    int64              \n",
            " 10  impliedVolatility  197 non-null    float64            \n",
            " 11  inTheMoney         197 non-null    bool               \n",
            " 12  contractSize       197 non-null    object             \n",
            " 13  currency           197 non-null    object             \n",
            " 14  daysToExpiration   197 non-null    int64              \n",
            "dtypes: bool(1), datetime64[ns, UTC](1), float64(8), int64(2), object(3)\n",
            "memory usage: 21.9+ KB\n"
          ]
        }
      ]
    },
    {
      "cell_type": "markdown",
      "source": [
        "<p align=\"justify\">\n",
        "El método <code>info()</code> de pandas sirve para obtener un resumen de la estructura del DataFrame: cantidad de filas, columnas, nombre y posición de las variables, cantidad de datos no nulos y tipo de dato.\n",
        "<br><br>\n",
        "Las variables del conjunto de datos son:\n",
        "\n",
        "* `contractSymbol`: identificador único para cada contrato de opción.\n",
        "* `lastTradeDate`: la fecha y hora exactas de la última vez que se negoció ese contrato.\n",
        "* `strike`: precio de ejercicio.\n",
        "* `lastPrice`: último precio al que se ejecutó una transacción para este contrato. Corresponde a la prima y es la variable objetivo ($y$) del modelo.\n",
        "* `bid`: precio de compra. Es el precio más alto que un comprador está dispuesto a pagar por ese contrato en este momento.\n",
        "* `ask`: precio de venta. Es el precio más bajo que un vendedor está dispuesto a aceptar por ese contrato en este momento.\n",
        "* `change`: cambio en el `lastPrice` del contrato en comparación con el precio de cierre del día anterior.\n",
        "* `percentChange`: cambio porcentual. Brinda la misma información que `change`, pero expresada en términos porcentuales.\n",
        "* `volume`: volumen negociado. Es el número total de contratos que se han negociado durante el día.\n",
        "* `openInterest`: interés abierto. Representa el número total de contratos de esa opción que están actualmente \"abiertos\" o en manos de inversores y que aún no se han cerrado, vencido o ejercido. A diferencia del `volume` (que es diario), `openInterest` es un total acumulado. Representa un indicador de la profundidad del mercado para esa opción.\n",
        "* `impliedVolatility`: volatilidad implícita. Esta es una de las variables más importantes. No mide la volatilidad pasada de la acción (histórica), sino que es la expectativa del mercado sobre cuán volátil será la acción en el futuro, hasta la fecha de vencimiento.\n",
        "* `inTheMoney`: indica si la opción tiene valor intrínseco.\n",
        "  * Para un *call* (opción de compra): está \"in the money\" si el precio actual de la acción es mayor que el de ejercicio.\n",
        "  * Para un *put* (opción de venta): está \"in the money\" si el precio actual de la acción es menor que el de ejercicio.\n",
        "* `contractSize`: tamaño del contrato. Define cuántas acciones del activo subyacente controla un solo contrato de opción. `REGULAR`: 1 contrato equivale a 100 acciones.\n",
        "* `currency`: moneda en la que se cotizan los precios de la opción.\n",
        "* `daysToExpiration`: es una variables creada. Representa el número de días que quedan hasta el vencimiento del contrato."
      ],
      "metadata": {
        "id": "XjRQAj1FDuuE"
      }
    },
    {
      "cell_type": "markdown",
      "source": [
        " ## **<font color=\"DeepPink\">Obtener el precio actual del subyacente para el cálculo de \"moneyness\"</font>**"
      ],
      "metadata": {
        "id": "YHCaOW2GDubw"
      }
    },
    {
      "cell_type": "code",
      "source": [
        "stock_info = yf.Ticker(ticker_symbol)\n",
        "current_stock_price = stock_info.history(period=\"1d\")[\"Close\"].iloc[-1]\n",
        "current_stock_price"
      ],
      "metadata": {
        "id": "4RTaWijyWsrr",
        "colab": {
          "base_uri": "https://localhost:8080/"
        },
        "outputId": "409be44c-ce81-4cef-ac21-56226503a45d"
      },
      "execution_count": 7,
      "outputs": [
        {
          "output_type": "execute_result",
          "data": {
            "text/plain": [
              "np.float64(30.469999313354492)"
            ]
          },
          "metadata": {},
          "execution_count": 7
        }
      ]
    },
    {
      "cell_type": "markdown",
      "source": [
        "<p align=\"justify\">\n",
        "El método <code>history()</code> de yfinance genera el historial de precios para una periodicidad diaria (<code>period=\"1d\"</code>) del activo financiero. <code>[\"Close\"]</code> selecciona únicamente la columna de precios de cierre, mientras que <code>.iloc[-1]</code> devuelve el último elemento de la columna seleccionada.\n",
        "<br><br>\n",
        "Esto permite obtener el precio de cierre más reciente de una acción de YPF (activo subyacente).\n"
      ],
      "metadata": {
        "id": "yRt5CoEDt7G6"
      }
    },
    {
      "cell_type": "markdown",
      "source": [
        " ## **<font color=\"DeepPink\">Eliminar filas con valores nulos en variables críticas</font>**"
      ],
      "metadata": {
        "id": "SNh1aJqLxIUv"
      }
    },
    {
      "cell_type": "code",
      "source": [
        "options_df.dropna(subset=['strike', 'impliedVolatility', 'lastPrice', 'bid', 'ask'], inplace=True)\n",
        "options_df.shape[0]"
      ],
      "metadata": {
        "colab": {
          "base_uri": "https://localhost:8080/"
        },
        "id": "JazCsWDfxpYs",
        "outputId": "1f768227-8c96-4b56-ced5-051a91975d7d"
      },
      "execution_count": 8,
      "outputs": [
        {
          "output_type": "execute_result",
          "data": {
            "text/plain": [
              "197"
            ]
          },
          "metadata": {},
          "execution_count": 8
        }
      ]
    },
    {
      "cell_type": "markdown",
      "source": [
        "<p align=\"justify\">\n",
        "El método <code>dropna()</code> en pandas se usa para eliminar filas (o columnas) que tienen valores nulos (NaN). El parámetro <code>subset</code>, indicá en qué columnas debe fijarse para decidir si elimina la fila.\n",
        "<br><br>\n",
        "El nuevo total de filas es 192, lo cual indica que se eliminó 1 sola fila."
      ],
      "metadata": {
        "id": "n6HWK741zMaf"
      }
    },
    {
      "cell_type": "markdown",
      "source": [
        " ## **<font color=\"DeepPink\">Ingeniería de variables</font>**"
      ],
      "metadata": {
        "id": "xxLoEcgKxFIu"
      }
    },
    {
      "cell_type": "markdown",
      "source": [
        " ### **<font color=\"DeepPink\">Crear la variables \"moneyness\"</font>**"
      ],
      "metadata": {
        "id": "IJhIMsJCz814"
      }
    },
    {
      "cell_type": "markdown",
      "source": [
        "<p align=\"justify\">\n",
        "La variable \"moneyness\" mide qué tan \"en el dinero\" está una opción. Es una métrica que estandariza la relación entre el precio actual del subyacente ($S$) y el precio de ejercicio de la opción ($E$). Su formula depende del tipo de opción:\n",
        "\n",
        "* Para `call`:\n",
        "$$moneyness=\\frac{S}{E}$$\n",
        "\n",
        "* Para `put`:\n",
        "$$moneyness=\\frac{E}{S}$$\n",
        "\n",
        "<p align=\"justify\">\n",
        "Un valor de \"moneyness\" mayor a 1 significa que la opción está \"in the money\", sin importar si es un <i>call</i> o un <i>put</i>. De manera similar, un valor menor a 1 significa que está \"out of the money\".\n"
      ],
      "metadata": {
        "id": "GdW3v0s-0oXR"
      }
    },
    {
      "cell_type": "code",
      "source": [
        "options_df[\"moneyness\"] = np.where(                                             # Aplica un condicional\n",
        "    options_df[\"contractSymbol\"].str.contains(\"C\"),                             # Revisa la columna contractSymbol para cada fila si el texto contiene la letra \"C\".\n",
        "    current_stock_price / options_df[\"strike\"],                                 # Condición verdadera (call): calcula el ratio dividiendo el precio actual de la acción por el precio de ejercicio de la opción.\n",
        "    options_df[\"strike\"] / current_stock_price                                  # Condición falsa (put): divide el precio de ejercicio por el precio actual de la acción.\n",
        "    )"
      ],
      "metadata": {
        "id": "l15UhZ6G0F4i"
      },
      "execution_count": 9,
      "outputs": []
    },
    {
      "cell_type": "markdown",
      "source": [
        "<p align=\"justify\">\n",
        "Revisa si el <code>contractSymbol</code> de cada opción contiene una \"C\" para determinar si es una opción de compra (<i>call</i>) o de venta (<i>put</i>). Si es un <i>call</i>, calcula el ratio dividiendo el precio actual de la acción por el precio de ejericio; si es un <i>put</i>, aplica la fórmula inversa, dividiendo el precio de ejericio por el precio de la acción."
      ],
      "metadata": {
        "id": "ntcDiiWh0qJx"
      }
    },
    {
      "cell_type": "markdown",
      "source": [
        " ### **<font color=\"DeepPink\">Crear la variables \"bid-ask spread\"</font>**"
      ],
      "metadata": {
        "id": "CIw01eFt62Ro"
      }
    },
    {
      "cell_type": "markdown",
      "source": [
        "<p align=\"justify\">\n",
        "La diferencia entre <code>bid</code> y <code>ask</code> es el spread, representa una medida de la liquidez del contrato."
      ],
      "metadata": {
        "id": "w9qYU9uU6_hj"
      }
    },
    {
      "cell_type": "code",
      "source": [
        "options_df['spread'] = options_df['ask'] - options_df['bid']"
      ],
      "metadata": {
        "id": "zKr3wkzM7L42"
      },
      "execution_count": 10,
      "outputs": []
    },
    {
      "cell_type": "code",
      "source": [
        "options_df.info()"
      ],
      "metadata": {
        "colab": {
          "base_uri": "https://localhost:8080/"
        },
        "id": "KUZTi60X7owM",
        "outputId": "c696bb5b-fe6a-40f1-8876-5da474a66955"
      },
      "execution_count": 11,
      "outputs": [
        {
          "output_type": "stream",
          "name": "stdout",
          "text": [
            "<class 'pandas.core.frame.DataFrame'>\n",
            "RangeIndex: 197 entries, 0 to 196\n",
            "Data columns (total 17 columns):\n",
            " #   Column             Non-Null Count  Dtype              \n",
            "---  ------             --------------  -----              \n",
            " 0   contractSymbol     197 non-null    object             \n",
            " 1   lastTradeDate      197 non-null    datetime64[ns, UTC]\n",
            " 2   strike             197 non-null    float64            \n",
            " 3   lastPrice          197 non-null    float64            \n",
            " 4   bid                197 non-null    float64            \n",
            " 5   ask                197 non-null    float64            \n",
            " 6   change             197 non-null    float64            \n",
            " 7   percentChange      197 non-null    float64            \n",
            " 8   volume             184 non-null    float64            \n",
            " 9   openInterest       197 non-null    int64              \n",
            " 10  impliedVolatility  197 non-null    float64            \n",
            " 11  inTheMoney         197 non-null    bool               \n",
            " 12  contractSize       197 non-null    object             \n",
            " 13  currency           197 non-null    object             \n",
            " 14  daysToExpiration   197 non-null    int64              \n",
            " 15  moneyness          197 non-null    float64            \n",
            " 16  spread             197 non-null    float64            \n",
            "dtypes: bool(1), datetime64[ns, UTC](1), float64(10), int64(2), object(3)\n",
            "memory usage: 24.9+ KB\n"
          ]
        }
      ]
    },
    {
      "cell_type": "markdown",
      "source": [
        " ## **<font color=\"DeepPink\">Definir las variables explicativas y la variable objetivo</font>**"
      ],
      "metadata": {
        "id": "f2HrJy9b7xpr"
      }
    },
    {
      "cell_type": "code",
      "source": [
        "# Se incluyen las \"Griegas\" y las nuevas variables explicativas.\n",
        "# Algunas Griegas pueden no estar disponibles, así que seleccionamos las que sí lo estén.\n",
        "# available_greeks = [col for col in ['delta', 'gamma', 'theta', 'vega', 'rho'] if col in options_df.columns]\n",
        "features_list = [\n",
        "    \"strike\", \"impliedVolatility\", \"volume\", \"openInterest\",\n",
        "    \"bid\", \"ask\", \"moneyness\", \"daysToExpiration\", \"spread\"\n",
        "] # + available_greeks"
      ],
      "metadata": {
        "id": "RKqQJVQXxX5G"
      },
      "execution_count": 12,
      "outputs": []
    },
    {
      "cell_type": "code",
      "source": [
        "print(f\"\\nVariables explicativas utilizadas para el modelo: {features_list}\")"
      ],
      "metadata": {
        "colab": {
          "base_uri": "https://localhost:8080/"
        },
        "id": "4yVFJxhKDiVO",
        "outputId": "2ca03a2b-f4c1-4b59-eb41-b61e732bb003"
      },
      "execution_count": 13,
      "outputs": [
        {
          "output_type": "stream",
          "name": "stdout",
          "text": [
            "\n",
            "Variables explicativas utilizadas para el modelo: ['strike', 'impliedVolatility', 'volume', 'openInterest', 'bid', 'ask', 'moneyness', 'daysToExpiration', 'spread']\n"
          ]
        }
      ]
    },
    {
      "cell_type": "markdown",
      "source": [
        " ## **<font color=\"DeepPink\">Reemplazar valores infinitos y rellenar faltantes</font>**\n",
        "\n"
      ],
      "metadata": {
        "id": "3ji9BRIx8pv-"
      }
    },
    {
      "cell_type": "code",
      "source": [
        "X_df = options_df[features_list].replace([np.inf, -np.inf], np.nan).fillna(0)\n",
        "y = options_df[\"lastPrice\"].fillna(0).values"
      ],
      "metadata": {
        "id": "5hDD5h-WAOOl"
      },
      "execution_count": 14,
      "outputs": []
    },
    {
      "cell_type": "markdown",
      "source": [
        "<p align=\"justify\">\n",
        "Este código busca cualquier valor infinito (positivo o negativo) y lo reemplaza por NaN. Finalmente, el método <code>fillna(0)</code> busca todos los <code>NaN</code> (los que ya existían y los que se acaban de crear) y los rellena con el valor 0. Esta es una estrategia simple de imputación de valores faltantes."
      ],
      "metadata": {
        "id": "VwPTAmN-ALnL"
      }
    },
    {
      "cell_type": "markdown",
      "source": [
        " ## **<font color=\"DeepPink\">Escalado de variables numéricas</font>**"
      ],
      "metadata": {
        "id": "rcDAfThi8plD"
      }
    },
    {
      "cell_type": "markdown",
      "source": [
        "<p align=\"justify\">\n",
        "El objetivo del escalado de variables es poner todas las variables explicativas en una escala común para que el modelo no se vea sesgado por las diferentes magnitudes de los datos. En especial, los modelos de redes neuronales son muy sensibles a la escala de las variables de entrada."
      ],
      "metadata": {
        "id": "bRE0HZ8ZNc6y"
      }
    },
    {
      "cell_type": "code",
      "source": [
        "scaler = StandardScaler()\n",
        "X_scaled = scaler.fit_transform(X_df)"
      ],
      "metadata": {
        "id": "xIs2AXlKNCqM"
      },
      "execution_count": 15,
      "outputs": []
    },
    {
      "cell_type": "markdown",
      "source": [
        "<p align=\"justify\">\n",
        "Este código primero crea un objeto <code>StandardScaler</code> de scikit-learn y luego, con el método .<code>fit_transform()</code>, realiza dos acciones en un solo paso: primero aprende la media y la desviación estándar de cada columna y, a continuación, transforma cada valor para que todas las variables explicativas queden en la misma escala, con una media de 0 y una desviación estándar de 1.\n",
        "<br><br>\n",
        "Este proceso es fundamental para asegurar que las variables con rangos de valores grandes (como el <code>strike</code>) no dominen injustamente el aprendizaje del modelo por encima de variables con rangos pequeños (como la <code>impliedVolatility</code>).\n",
        "<br><br>\n",
        "El resultado es almacenado en una matriz de numpy:"
      ],
      "metadata": {
        "id": "8SRRFSNbOE6c"
      }
    },
    {
      "cell_type": "code",
      "source": [
        "X_scaled"
      ],
      "metadata": {
        "colab": {
          "base_uri": "https://localhost:8080/"
        },
        "id": "TzbSLBs1Oz0D",
        "outputId": "26182e00-3052-4015-eb91-cda61f051c1a"
      },
      "execution_count": 16,
      "outputs": [
        {
          "output_type": "execute_result",
          "data": {
            "text/plain": [
              "array([[-0.42109325, -0.19095078, -0.23536082, ..., -0.03215059,\n",
              "        -0.87576062, -0.62831191],\n",
              "       [-0.3448475 , -0.23727816, -0.23536082, ..., -0.06071439,\n",
              "        -0.87576062, -0.69328695],\n",
              "       [-0.19235601, -0.23275841, -0.22893358, ..., -0.11212923,\n",
              "        -0.87576062, -0.72577446],\n",
              "       ...,\n",
              "       [ 1.71378759, -0.82032516, -0.24178806, ...,  0.44731343,\n",
              "         1.9851416 , -0.82323702],\n",
              "       [ 2.09501631, -0.82032516, -0.1775157 , ...,  0.56360892,\n",
              "         1.9851416 ,  2.23058973],\n",
              "       [ 2.47624504, -0.82032516, -0.1775157 , ...,  0.6799044 ,\n",
              "         1.9851416 ,  2.23058973]])"
            ]
          },
          "metadata": {},
          "execution_count": 16
        }
      ]
    },
    {
      "cell_type": "markdown",
      "source": [
        " ## **<font color=\"DeepPink\">División en conjunto de entrenamiento y prueba</font>**"
      ],
      "metadata": {
        "id": "6PopFvM1PE8T"
      }
    },
    {
      "cell_type": "code",
      "source": [
        "X_train, X_test, y_train, y_test = train_test_split(X_scaled, y, test_size=0.3, random_state=seed_value)"
      ],
      "metadata": {
        "id": "Pg1abC72PSX8"
      },
      "execution_count": 17,
      "outputs": []
    },
    {
      "cell_type": "markdown",
      "source": [
        "<p align=\"justify\">\n",
        "El método <code>train_test_split()</code> de scikit-learn crea un conjunto de entrenamiento (70%) y otro de prueba (30%)."
      ],
      "metadata": {
        "id": "ybSnG0E3TQf-"
      }
    },
    {
      "cell_type": "code",
      "source": [
        "print(f\"\\nEl conjunto de entrenamiento representa el {int(round(len(X_train)/len(X_scaled)*100,0))} % del total de datos\")"
      ],
      "metadata": {
        "colab": {
          "base_uri": "https://localhost:8080/"
        },
        "id": "_Du4f0kNSQs-",
        "outputId": "045d90a0-b8d6-48e5-aaf9-fd5d214d5378"
      },
      "execution_count": 18,
      "outputs": [
        {
          "output_type": "stream",
          "name": "stdout",
          "text": [
            "\n",
            "El conjunto de entrenamiento representa el 70 % del total de datos\n"
          ]
        }
      ]
    },
    {
      "cell_type": "markdown",
      "source": [
        " ## **<font color=\"DeepPink\">Definir el modelo</font>**"
      ],
      "metadata": {
        "id": "pKnDbk4zUEt6"
      }
    },
    {
      "cell_type": "markdown",
      "source": [
        "<p align=\"justify\">\n",
        "<code>Secuential</code> se utiliza para crear modelos de redes neuronales secuenciales en Keras. Un modelo secuencial es simplemente una pila lineal de capas donde la salida de una capa se convierte en la entrada de la siguiente capa. Es adecuado para la mayoría de los modelos simples y es fácil de usar."
      ],
      "metadata": {
        "id": "xDwbyDyfnLvu"
      }
    },
    {
      "cell_type": "code",
      "source": [
        "model = Sequential([\n",
        "    Dense(128, input_dim=X_train.shape[1], activation=\"relu\"),                  # Primer capa oculta\n",
        "    Dropout(0.2),                                                               # Primer capa de regularización\n",
        "    Dense(64, activation=\"relu\"),                                               # Segunda capa oculta\n",
        "    Dropout(0.15),                                                              # Segunda capa de regularización\n",
        "    Dense(32, activation=\"relu\"),                                               # Tercer capa oculta\n",
        "    Dense(1, activation=\"linear\")                                               # Capa de salida\n",
        "])"
      ],
      "metadata": {
        "id": "B59UIHMgUz7e"
      },
      "execution_count": 19,
      "outputs": []
    },
    {
      "cell_type": "markdown",
      "source": [
        "<p align=\"justify\">\n",
        "<b>Primer Capa Oculta</b>: es una capa \"densa\" o totalmente conectada con 128 neuronas. Una capa densa es una capa en la que cada neurona está conectada a todas las neuronas de la capa anterior, es decir, cada una de estas neuronas recibe información de todas las variables de entrada. Esta capa usa la función de activación ReLU (Rectified Linear Unit):\n",
        "<br><br>\n",
        "$$a = f(z) = max(z,0)$$\n",
        "<br>\n",
        "La función de activación ReLU aplica una transformación no lineal muy simple, activa la neurona solo si el valor de entrada está por encima de cero. Mientras el valor de entrada está por debajo de cero, el valor de salida es cero, pero cuando es superior de cero, el valor de salida aumenta de forma lineal con el de entrada.\n",
        "<br><br>\n",
        "<b>Primer capa de regularización</b>: esta capa no aprende, sino que ayuda al modelo a no \"memorizar\" los datos de entrenamiento (un problema conocido como sobreajuste u overfitting). Durante el entrenamiento, esta capa apaga aleatoriamente el 20% de las 128 neuronas de la capa anterior. Esto fuerza a la red a aprender de una manera más robusta y a no depender de unas pocas neuronas.\n",
        "<br><br>\n",
        "<b>Segunda capa oculta</b>: es una capa densa con 64 neuronas, que también usa la activación ReLU.\n",
        "<br><br>\n",
        "<b>Segunda capa de regularización</b>: aplica el mismo principio de apagado aleatorio, pero esta vez al 15% de las 64 neuronas de la capa anterior.\n",
        "<br><br>\n",
        "<b>Tercer capa oculta</b>: es una capa densa con 32 neuronas, que también usa la activación ReLU.\n",
        "<br><br>\n",
        "<b>Capa de salida</b>: es la capa final que produce la predicción del modelo.Tiene 1 sola neurona porque el objetivo es predecir un único valor (problema de regresión): el precio de la opción (<code>lastPrice</code>). La función de activación es Lineal\n",
        "<br><br>\n",
        "$$a = f(z) = z$$\n",
        "<br>\n",
        "La función de activación Lineal, también conocida como identidad, es la más simple de todas: no aplica ninguna transformación."
      ],
      "metadata": {
        "id": "Brtpeep8n_eN"
      }
    },
    {
      "cell_type": "markdown",
      "source": [
        " ## **<font color=\"DeepPink\">Diagrama de la red neuronal</font>**"
      ],
      "metadata": {
        "id": "57NbYiR0vcNo"
      }
    },
    {
      "cell_type": "code",
      "source": [
        "from tensorflow.keras.utils import plot_model\n",
        "import matplotlib.pyplot as plt\n",
        "import matplotlib.image as mpimg\n",
        "\n",
        "# Guardar y mostrar el gráfico del modelo\n",
        "plot_model(model, to_file=\"modelo_red.png\", show_shapes=True, show_layer_names=True)\n",
        "\n",
        "# Mostrar la imagen directamente en Colab\n",
        "img = mpimg.imread(\"modelo_red.png\")\n",
        "plt.figure(figsize=(10, 10))\n",
        "plt.imshow(img)\n",
        "plt.axis(\"off\")\n",
        "plt.show()"
      ],
      "metadata": {
        "colab": {
          "base_uri": "https://localhost:8080/",
          "height": 807
        },
        "id": "o1Ev58Ybut2b",
        "outputId": "c8426a21-d5e4-454b-df7d-47d80be3e105"
      },
      "execution_count": 20,
      "outputs": [
        {
          "output_type": "display_data",
          "data": {
            "text/plain": [
              "<Figure size 1000x1000 with 1 Axes>"
            ],
            "image/png": "[encoded data removed]"
          },
          "metadata": {}
        }
      ]
    },
    {
      "cell_type": "markdown",
      "source": [
        " ## **<font color=\"DeepPink\">Compilar el modelo</font>**"
      ],
      "metadata": {
        "id": "-29OSPGnUt27"
      }
    },
    {
      "cell_type": "markdown",
      "source": [
        "En esta etapa se compila el modelo. Es el paso final de configuración antes de que el modelo pueda ser entrenado."
      ],
      "metadata": {
        "id": "T2BF99xCnDM4"
      }
    },
    {
      "cell_type": "code",
      "source": [
        "model.compile(optimizer=Adam(learning_rate=0.001), loss=\"mse\")"
      ],
      "metadata": {
        "id": "bV5HIbgiU8vS"
      },
      "execution_count": 21,
      "outputs": []
    },
    {
      "cell_type": "markdown",
      "source": [
        "<p align=\"justify\">\n",
        "Para compilar se debe definir un optimizador y la métrica de error. El ADAM (Adaptive Moment Estimation) es uno de los algoritmos de optimización más utilizados y efectivos en el aprendizaje profundo. La tasa de aprendizaje (<code>learning rate</code>)  es quizás el parámetro más importante del optimizador,  este parámetro controla el tamaño de los \"pasos\" que da el optimizador para ajustar los pesos.\n",
        "<br><br>\n",
        "Por último función de pérdida (<code>loss</code>) es la métrica que cuantifica el error de las predicciones del modelo en comparación con los valores reales. El objetivo del optimizador es minimizar el valor de esta función. Se usa mse, abreviatura de Mean Squared Error (Error Cuadrático Medio). Esta es la función de pérdida estándar para problemas de regresión (predecir un valor numérico continuo), como lo es el precio de la opción (<code>lastPrice</code>)."
      ],
      "metadata": {
        "id": "xLdWS6YBw4ox"
      }
    },
    {
      "cell_type": "markdown",
      "source": [
        "## **<font color=\"DeepPink\">Entrenar el modelo (con early stopping)</font>**"
      ],
      "metadata": {
        "id": "puvzkyJIVLJx"
      }
    },
    {
      "cell_type": "markdown",
      "source": [
        "<p align=\"justify\">\n",
        "<code>EarlyStopping</code> es un callback que que funciona como un criterio de detención temprana que interrumpe el proceso de entrenamiento iterativo cuando una métrica de rendimiento específica, monitoreada sobre un conjunto de datos de validación, deja de mejorar. Al evaluar el desempeño del modelo al final de cada época, esta técnica identifica el punto óptimo de entrenamiento en el que la capacidad de generalización del modelo es máxima, evitando así las iteraciones adicionales que conducirían al sobreajuste."
      ],
      "metadata": {
        "id": "HqNyy5xO0NS5"
      }
    },
    {
      "cell_type": "code",
      "source": [
        "early_stopping = EarlyStopping(\n",
        "    monitor='val_loss',                                                         # Métrica a observar\n",
        "    patience=15,                                                                # Épocas a esperar sin mejora antes de detener\n",
        "    restore_best_weights=True                                                   # Restaura los pesos del modelo de la mejor época\n",
        ")"
      ],
      "metadata": {
        "id": "GvlXXAqJVbej"
      },
      "execution_count": 22,
      "outputs": []
    },
    {
      "cell_type": "markdown",
      "source": [
        "<p align=\"justify\">\n",
        "El parámetro <code>monitor</code> indica qué métrica vigilar, <code>val_loss</code>significa que observará la función de pérdida en el conjunto de datos de validación. El siguiente parámetro, <code>patience=15</code> significa que, si pasan 15 épocas completas sin ninguna mejora, el entrenamiento se detiene.\n",
        "<br><br>\n",
        "<code>restore_best_weights=True</code>, te aseguras de que una vez que el entrenamiento se detenga, el modelo descarte los pesos de las últimas épocas y restaure los que lograron el mejor val_loss durante todo el entrenamiento. Esto garantiza que te quedes con la mejor versión posible de tu modelo.\n",
        "<br><br>\n",
        "Este objeto creado <code>early_stopping</code> luego se pasa a <code>model.fit()</code> para que se active durante el entrenamiento:"
      ],
      "metadata": {
        "id": "ftWuGcM11jWA"
      }
    },
    {
      "cell_type": "code",
      "source": [
        "print(\"\\nIniciando entrenamiento del modelo...\")\n",
        "history = model.fit(\n",
        "    X_train, y_train,\n",
        "    epochs=200,                                                                 # Número máximo de épocas\n",
        "    batch_size=32,\n",
        "    verbose=1,                                                                  # Muestra el progreso\n",
        "    validation_split=0.2,\n",
        "    callbacks=[early_stopping]                                                  # Aplicar el callback\n",
        ")\n",
        "print(\"Entrenamiento finalizado.\")"
      ],
      "metadata": {
        "id": "DK1KHBmWVeWY",
        "colab": {
          "base_uri": "https://localhost:8080/"
        },
        "outputId": "8a82aa90-c30d-4f36-8d53-3ee4c062bebf"
      },
      "execution_count": 23,
      "outputs": [
        {
          "output_type": "stream",
          "name": "stdout",
          "text": [
            "\n",
            "Iniciando entrenamiento del modelo...\n",
            "Epoch 1/200\n",
            "\u001b[1m4/4\u001b[0m \u001b[32m━━━━━━━━━━━━━━━━━━━━\u001b[0m\u001b[37m\u001b[0m \u001b[1m3s\u001b[0m 84ms/step - loss: 67.2571 - val_loss: 87.0218\n",
            "Epoch 2/200\n",
            "\u001b[1m4/4\u001b[0m \u001b[32m━━━━━━━━━━━━━━━━━━━━\u001b[0m\u001b[37m\u001b[0m \u001b[1m0s\u001b[0m 23ms/step - loss: 59.3210 - val_loss: 76.7700\n",
            "Epoch 3/200\n",
            "\u001b[1m4/4\u001b[0m \u001b[32m━━━━━━━━━━━━━━━━━━━━\u001b[0m\u001b[37m\u001b[0m \u001b[1m0s\u001b[0m 24ms/step - loss: 52.8755 - val_loss: 66.1343\n",
            "Epoch 4/200\n",
            "\u001b[1m4/4\u001b[0m \u001b[32m━━━━━━━━━━━━━━━━━━━━\u001b[0m\u001b[37m\u001b[0m \u001b[1m0s\u001b[0m 23ms/step - loss: 48.0235 - val_loss: 55.2888\n",
            "Epoch 5/200\n",
            "\u001b[1m4/4\u001b[0m \u001b[32m━━━━━━━━━━━━━━━━━━━━\u001b[0m\u001b[37m\u001b[0m \u001b[1m0s\u001b[0m 23ms/step - loss: 43.0268 - val_loss: 44.5701\n",
            "Epoch 6/200\n",
            "\u001b[1m4/4\u001b[0m \u001b[32m━━━━━━━━━━━━━━━━━━━━\u001b[0m\u001b[37m\u001b[0m \u001b[1m0s\u001b[0m 23ms/step - loss: 33.1616 - val_loss: 34.3765\n",
            "Epoch 7/200\n",
            "\u001b[1m4/4\u001b[0m \u001b[32m━━━━━━━━━━━━━━━━━━━━\u001b[0m\u001b[37m\u001b[0m \u001b[1m0s\u001b[0m 25ms/step - loss: 27.5841 - val_loss: 25.5633\n",
            "Epoch 8/200\n",
            "\u001b[1m4/4\u001b[0m \u001b[32m━━━━━━━━━━━━━━━━━━━━\u001b[0m\u001b[37m\u001b[0m \u001b[1m0s\u001b[0m 23ms/step - loss: 22.5680 - val_loss: 18.8531\n",
            "Epoch 9/200\n",
            "\u001b[1m4/4\u001b[0m \u001b[32m━━━━━━━━━━━━━━━━━━━━\u001b[0m\u001b[37m\u001b[0m \u001b[1m0s\u001b[0m 28ms/step - loss: 19.8497 - val_loss: 14.8271\n",
            "Epoch 10/200\n",
            "\u001b[1m4/4\u001b[0m \u001b[32m━━━━━━━━━━━━━━━━━━━━\u001b[0m\u001b[37m\u001b[0m \u001b[1m0s\u001b[0m 25ms/step - loss: 12.9189 - val_loss: 13.2679\n",
            "Epoch 11/200\n",
            "\u001b[1m4/4\u001b[0m \u001b[32m━━━━━━━━━━━━━━━━━━━━\u001b[0m\u001b[37m\u001b[0m \u001b[1m0s\u001b[0m 38ms/step - loss: 10.7324 - val_loss: 13.0624\n",
            "Epoch 12/200\n",
            "\u001b[1m4/4\u001b[0m \u001b[32m━━━━━━━━━━━━━━━━━━━━\u001b[0m\u001b[37m\u001b[0m \u001b[1m0s\u001b[0m 25ms/step - loss: 10.4803 - val_loss: 13.1139\n",
            "Epoch 13/200\n",
            "\u001b[1m4/4\u001b[0m \u001b[32m━━━━━━━━━━━━━━━━━━━━\u001b[0m\u001b[37m\u001b[0m \u001b[1m0s\u001b[0m 25ms/step - loss: 8.6929 - val_loss: 12.9867\n",
            "Epoch 14/200\n",
            "\u001b[1m4/4\u001b[0m \u001b[32m━━━━━━━━━━━━━━━━━━━━\u001b[0m\u001b[37m\u001b[0m \u001b[1m0s\u001b[0m 25ms/step - loss: 7.7141 - val_loss: 12.4188\n",
            "Epoch 15/200\n",
            "\u001b[1m4/4\u001b[0m \u001b[32m━━━━━━━━━━━━━━━━━━━━\u001b[0m\u001b[37m\u001b[0m \u001b[1m0s\u001b[0m 23ms/step - loss: 7.1417 - val_loss: 11.6716\n",
            "Epoch 16/200\n",
            "\u001b[1m4/4\u001b[0m \u001b[32m━━━━━━━━━━━━━━━━━━━━\u001b[0m\u001b[37m\u001b[0m \u001b[1m0s\u001b[0m 24ms/step - loss: 6.4281 - val_loss: 11.3714\n",
            "Epoch 17/200\n",
            "\u001b[1m4/4\u001b[0m \u001b[32m━━━━━━━━━━━━━━━━━━━━\u001b[0m\u001b[37m\u001b[0m \u001b[1m0s\u001b[0m 26ms/step - loss: 5.9098 - val_loss: 11.4868\n",
            "Epoch 18/200\n",
            "\u001b[1m4/4\u001b[0m \u001b[32m━━━━━━━━━━━━━━━━━━━━\u001b[0m\u001b[37m\u001b[0m \u001b[1m0s\u001b[0m 23ms/step - loss: 8.6568 - val_loss: 11.5880\n",
            "Epoch 19/200\n",
            "\u001b[1m4/4\u001b[0m \u001b[32m━━━━━━━━━━━━━━━━━━━━\u001b[0m\u001b[37m\u001b[0m \u001b[1m0s\u001b[0m 23ms/step - loss: 6.5064 - val_loss: 12.0579\n",
            "Epoch 20/200\n",
            "\u001b[1m4/4\u001b[0m \u001b[32m━━━━━━━━━━━━━━━━━━━━\u001b[0m\u001b[37m\u001b[0m \u001b[1m0s\u001b[0m 23ms/step - loss: 5.5971 - val_loss: 13.1531\n",
            "Epoch 21/200\n",
            "\u001b[1m4/4\u001b[0m \u001b[32m━━━━━━━━━━━━━━━━━━━━\u001b[0m\u001b[37m\u001b[0m \u001b[1m0s\u001b[0m 24ms/step - loss: 6.5494 - val_loss: 13.6701\n",
            "Epoch 22/200\n",
            "\u001b[1m4/4\u001b[0m \u001b[32m━━━━━━━━━━━━━━━━━━━━\u001b[0m\u001b[37m\u001b[0m \u001b[1m0s\u001b[0m 24ms/step - loss: 4.5482 - val_loss: 14.1884\n",
            "Epoch 23/200\n",
            "\u001b[1m4/4\u001b[0m \u001b[32m━━━━━━━━━━━━━━━━━━━━\u001b[0m\u001b[37m\u001b[0m \u001b[1m0s\u001b[0m 24ms/step - loss: 4.4396 - val_loss: 15.2219\n",
            "Epoch 24/200\n",
            "\u001b[1m4/4\u001b[0m \u001b[32m━━━━━━━━━━━━━━━━━━━━\u001b[0m\u001b[37m\u001b[0m \u001b[1m0s\u001b[0m 25ms/step - loss: 6.9787 - val_loss: 14.6401\n",
            "Epoch 25/200\n",
            "\u001b[1m4/4\u001b[0m \u001b[32m━━━━━━━━━━━━━━━━━━━━\u001b[0m\u001b[37m\u001b[0m \u001b[1m0s\u001b[0m 28ms/step - loss: 5.0806 - val_loss: 13.9347\n",
            "Epoch 26/200\n",
            "\u001b[1m4/4\u001b[0m \u001b[32m━━━━━━━━━━━━━━━━━━━━\u001b[0m\u001b[37m\u001b[0m \u001b[1m0s\u001b[0m 23ms/step - loss: 4.6155 - val_loss: 13.1666\n",
            "Epoch 27/200\n",
            "\u001b[1m4/4\u001b[0m \u001b[32m━━━━━━━━━━━━━━━━━━━━\u001b[0m\u001b[37m\u001b[0m \u001b[1m0s\u001b[0m 23ms/step - loss: 4.5387 - val_loss: 13.0212\n",
            "Epoch 28/200\n",
            "\u001b[1m4/4\u001b[0m \u001b[32m━━━━━━━━━━━━━━━━━━━━\u001b[0m\u001b[37m\u001b[0m \u001b[1m0s\u001b[0m 25ms/step - loss: 4.7666 - val_loss: 13.0338\n",
            "Epoch 29/200\n",
            "\u001b[1m4/4\u001b[0m \u001b[32m━━━━━━━━━━━━━━━━━━━━\u001b[0m\u001b[37m\u001b[0m \u001b[1m0s\u001b[0m 25ms/step - loss: 3.4848 - val_loss: 13.9399\n",
            "Epoch 30/200\n",
            "\u001b[1m4/4\u001b[0m \u001b[32m━━━━━━━━━━━━━━━━━━━━\u001b[0m\u001b[37m\u001b[0m \u001b[1m0s\u001b[0m 23ms/step - loss: 4.1834 - val_loss: 15.8227\n",
            "Epoch 31/200\n",
            "\u001b[1m4/4\u001b[0m \u001b[32m━━━━━━━━━━━━━━━━━━━━\u001b[0m\u001b[37m\u001b[0m \u001b[1m0s\u001b[0m 23ms/step - loss: 4.3245 - val_loss: 17.1652\n",
            "Entrenamiento finalizado.\n"
          ]
        }
      ]
    },
    {
      "cell_type": "markdown",
      "source": [
        "<p align=\"justify\">\n",
        "Una época es una pasada completa a través de todo el conjunto de datos de entrenamiento. <code>epochs=200</code> le estás diciendo al modelo que revise todos los datos un máximo de 200 veces.\n",
        "<br><br>\n",
        "El modelo no procesa todos los datos de una sola vez. Lo hace en pequeños lotes o \"batches\". <code>batch_size=32</code> significa que el modelo tomará 32 filas de datos, hará sus predicciones, calculará el error y ajustará sus pesos. Luego, tomará las siguientes 32 filas y repetirá el proceso, hasta terminar la época.\n",
        "<br><br>\n",
        "Antes de empezar a entrenar, Keras automáticamente apartará el 20 % de tus datos de X_train y y_train para usarlos como un conjunto de validación. El modelo no aprende de estos datos; solo los usa al final de cada época para evaluar su rendimiento en información que no ha visto. La métrica val_loss que monitorea tu EarlyStopping se calcula sobre este conjunto.\n",
        "<br><br>\n",
        "En <code>callbacks=[early_stopping]</code> es donde se activan las reglas antes definidas. Se activando la regla de EarlyStopping para que supervise el <code>val_loss</code> y detenga el entrenamiento si es necesario."
      ],
      "metadata": {
        "id": "qlqk2KbTgUoU"
      }
    },
    {
      "cell_type": "markdown",
      "source": [
        "## **<font color=\"DeepPink\">Evaluar el modelo</font>**"
      ],
      "metadata": {
        "id": "Qgcj5WC80HPq"
      }
    },
    {
      "cell_type": "markdown",
      "source": [
        " <p align=\"justify\">\n",
        " Por último, se evalúa el rendimiento del modelo utilizando datos que nunca antes ha visto (<code>X_test</code>) y se cuantifica qué tan buenas fueron sus predicciones."
      ],
      "metadata": {
        "id": "F6bmn15OpTXP"
      }
    },
    {
      "cell_type": "code",
      "source": [
        "y_pred = model.predict(X_test).flatten()\n",
        "\n",
        "# Métricas\n",
        "mse = mean_squared_error(y_test, y_pred)\n",
        "rmse = np.sqrt(mse)\n",
        "mae = mean_absolute_error(y_test, y_pred)\n",
        "epsilon = 1e-10                                                                 # Se añade una pequeña cantidad (epsilon) para evitar la división por cero en MAPE\n",
        "mape = np.mean(np.abs((y_test - y_pred) / (y_test + epsilon))) * 100\n",
        "r2 = r2_score(y_test, y_pred)\n",
        "\n",
        "print(\"\\nMétricas de rendimiento del modelo:\")\n",
        "print(f\"MSE: {mse:.4f}\")\n",
        "print(f\"RMSE: {rmse:.4f}\")\n",
        "print(f\"MAE: {mae:.4f}\")\n",
        "print(f\"MAPE: {mape:.2f} %\")\n",
        "print(f\"R²: {r2:.4f}\")"
      ],
      "metadata": {
        "colab": {
          "base_uri": "https://localhost:8080/"
        },
        "id": "085q8Y6077pr",
        "outputId": "1ccc5b17-3c2e-417e-d195-d26b233307db"
      },
      "execution_count": 24,
      "outputs": [
        {
          "output_type": "stream",
          "name": "stdout",
          "text": [
            "\u001b[1m2/2\u001b[0m \u001b[32m━━━━━━━━━━━━━━━━━━━━\u001b[0m\u001b[37m\u001b[0m \u001b[1m0s\u001b[0m 67ms/step\n",
            "\n",
            "Métricas de rendimiento del modelo:\n",
            "MSE: 6.9208\n",
            "RMSE: 2.6308\n",
            "MAE: 1.9220\n",
            "MAPE: 244.60 %\n",
            "R²: 0.7428\n"
          ]
        }
      ]
    }
  ]
}